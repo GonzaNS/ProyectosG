{
 "cells": [
  {
   "cell_type": "code",
   "execution_count": 8,
   "id": "0ab866d9-98d1-4edb-aec6-fb786b8112e5",
   "metadata": {},
   "outputs": [],
   "source": [
    "import pandas as pd\n",
    "import numpy as np\n",
    "import matplotlib.pyplot as plt\n",
    "import seaborn as sb\n",
    "\n",
    "# 1. Cargar los datos\n",
    "dataframe = pd.read_csv('DS_Prediccion_de_Cardiopatia_SinDatosPerdidos.csv', sep=';')\n",
    "clasificadores = ['No Cardiopatía', 'Cardiopatía']  # 0 = No Cardiopatía, 1 = Cardiopatía\n",
    "\n"
   ]
  },
  {
   "cell_type": "code",
   "execution_count": 9,
   "id": "6c84df2e-ba62-42e3-8582-5a4e26277838",
   "metadata": {},
   "outputs": [
    {
     "data": {
      "text/plain": [
       "Resultado\n",
       "0    495\n",
       "1    523\n",
       "dtype: int64"
      ]
     },
     "execution_count": 9,
     "metadata": {},
     "output_type": "execute_result"
    }
   ],
   "source": [
    "# Análisis de distribución de la variable objetivo (EVENTO_MUERTE)\n",
    "dataframe.groupby('Resultado').size()"
   ]
  },
  {
   "cell_type": "code",
   "execution_count": 10,
   "id": "32fedd76-aa71-413a-9a19-c32ccb42d6cf",
   "metadata": {},
   "outputs": [
    {
     "data": {
      "text/plain": [
       "<seaborn.axisgrid.FacetGrid at 0x1c1407ac500>"
      ]
     },
     "execution_count": 10,
     "metadata": {},
     "output_type": "execute_result"
    },
    {
     "data": {
      "image/png": "[encoded data removed]",
      "text/plain": [
       "<Figure size 211.111x250 with 1 Axes>"
      ]
     },
     "metadata": {},
     "output_type": "display_data"
    }
   ],
   "source": [
    "# Visualización (ajustando nombre de columna)\n",
    "sb.catplot(x='Resultado', data=dataframe, kind=\"count\", height=2.5, aspect=.8)\n"
   ]
  },
  {
   "cell_type": "code",
   "execution_count": 11,
   "id": "7bcc978b-9514-467e-90fe-cb6b2e67a777",
   "metadata": {},
   "outputs": [],
   "source": [
    "# 4. Preparar datos\n",
    "y = dataframe['Resultado']  # Variable objetivo (equivalente a 'Severity' en tu ejemplo)\n",
    "x = dataframe.drop('Resultado', axis=1)  # Características\n"
   ]
  },
  {
   "cell_type": "code",
   "execution_count": 12,
   "id": "7394111d-019c-4112-bc6d-7d741a91db59",
   "metadata": {},
   "outputs": [
    {
     "ename": "NameError",
     "evalue": "name 'KNeighborsClassifier' is not defined",
     "output_type": "error",
     "traceback": [
      "\u001b[1;31m---------------------------------------------------------------------------\u001b[0m",
      "\u001b[1;31mNameError\u001b[0m                                 Traceback (most recent call last)",
      "Cell \u001b[1;32mIn[12], line 5\u001b[0m\n\u001b[0;32m      2\u001b[0m x_train, x_test, y_train, y_test \u001b[38;5;241m=\u001b[39m train_test_split(x, y, test_size\u001b[38;5;241m=\u001b[39m\u001b[38;5;241m0.3\u001b[39m, random_state\u001b[38;5;241m=\u001b[39m\u001b[38;5;241m30\u001b[39m)\n\u001b[0;32m      4\u001b[0m \u001b[38;5;66;03m# 6. Crear y entrenar modelo KNN (igual que tu código)\u001b[39;00m\n\u001b[1;32m----> 5\u001b[0m knn_mm \u001b[38;5;241m=\u001b[39m KNeighborsClassifier(n_neighbors\u001b[38;5;241m=\u001b[39m\u001b[38;5;241m5\u001b[39m)\n\u001b[0;32m      6\u001b[0m knn_mm\u001b[38;5;241m.\u001b[39mfit(x_train, y_train)\n\u001b[0;32m      8\u001b[0m \u001b[38;5;66;03m# 7. Hacer predicciones\u001b[39;00m\n",
      "\u001b[1;31mNameError\u001b[0m: name 'KNeighborsClassifier' is not defined"
     ]
    }
   ],
   "source": [
    "\n",
    "# 5. Dividir datos (mismos parámetros que tu código)\n",
    "x_train, x_test, y_train, y_test = train_test_split(x, y, test_size=0.3, random_state=30)\n",
    "\n",
    "# 6. Crear y entrenar modelo KNN (igual que tu código)\n",
    "from sklearn.neighbors import KNeighborsClassifier\n",
    "knn_mm = KNeighborsClassifier(n_neighbors=5)\n",
    "knn_mm.fit(x_train, y_train)\n",
    "\n",
    "# 7. Hacer predicciones\n",
    "predicciones = knn_mm.predict(x_test)\n",
    "\n",
    "# 8. Matriz de confusión (mismo formato)\n",
    "tn, fp, fn, tp = confusion_matrix(y_test, predicciones).ravel()\n",
    "labels = [\"No Cardiopatía\", \"Cardiopatía\"]\n",
    "matriz = confusion_matrix(y_test, predicciones, labels=[0,1])\n",
    "print(\"\\nMatriz de confusión:\")\n",
    "print(pd.DataFrame(matriz, index=labels, columns=labels))\n",
    "\n",
    "# 9. Reporte de clasificación\n",
    "print(\"\\nReporte de clasificación:\")\n",
    "print(classification_report(y_test, predicciones, target_names=clasificadores))\n",
    "\n"
   ]
  },
  {
   "cell_type": "code",
   "execution_count": 7,
   "id": "1fa60ef2-13c4-4dac-9b34-80094ca9fb28",
   "metadata": {},
   "outputs": [
    {
     "name": "stdout",
     "output_type": "stream",
     "text": [
      "\n",
      "Predicción para caso de ejemplo:\n"
     ]
    },
    {
     "ename": "NameError",
     "evalue": "name 'knn_mm' is not defined",
     "output_type": "error",
     "traceback": [
      "\u001b[1;31m---------------------------------------------------------------------------\u001b[0m",
      "\u001b[1;31mNameError\u001b[0m                                 Traceback (most recent call last)",
      "Cell \u001b[1;32mIn[7], line 7\u001b[0m\n\u001b[0;32m      5\u001b[0m \u001b[38;5;28mprint\u001b[39m(\u001b[38;5;124m\"\u001b[39m\u001b[38;5;130;01m\\n\u001b[39;00m\u001b[38;5;124mPredicción para caso de ejemplo:\u001b[39m\u001b[38;5;124m\"\u001b[39m)\n\u001b[0;32m      6\u001b[0m ejemplo \u001b[38;5;241m=\u001b[39m [[\u001b[38;5;241m52\u001b[39m, \u001b[38;5;241m1\u001b[39m, \u001b[38;5;241m0\u001b[39m, \u001b[38;5;241m125\u001b[39m, \u001b[38;5;241m212\u001b[39m, \u001b[38;5;241m0\u001b[39m, \u001b[38;5;241m1\u001b[39m, \u001b[38;5;241m168\u001b[39m, \u001b[38;5;241m0\u001b[39m, \u001b[38;5;241m1\u001b[39m, \u001b[38;5;241m2\u001b[39m, \u001b[38;5;241m2\u001b[39m, \u001b[38;5;241m3\u001b[39m]]  \u001b[38;5;66;03m# Similar a tu ejemplo [4,65,3,5,3]\u001b[39;00m\n\u001b[1;32m----> 7\u001b[0m \u001b[38;5;28mprint\u001b[39m(\u001b[38;5;124m\"\u001b[39m\u001b[38;5;124mClase predicha:\u001b[39m\u001b[38;5;124m\"\u001b[39m, knn_mm\u001b[38;5;241m.\u001b[39mpredict(ejemplo))\n\u001b[0;32m      8\u001b[0m \u001b[38;5;28mprint\u001b[39m(\u001b[38;5;124m\"\u001b[39m\u001b[38;5;124mProbabilidades:\u001b[39m\u001b[38;5;124m\"\u001b[39m, knn_mm\u001b[38;5;241m.\u001b[39mpredict_proba(ejemplo))\n",
      "\u001b[1;31mNameError\u001b[0m: name 'knn_mm' is not defined"
     ]
    }
   ],
   "source": [
    "# 10. Ejemplo de predicción (estructurado como tu ejemplo)\n",
    "# [Edad, Sexo, Tipo_Dolor_Pecho, Presion_Arterial, Colesterol, \n",
    "# Nivel_Azucar_Ayunas, Res_Electrocardiografico, Frecuencia_Cardiaca, \n",
    "# Angina_Inducida, DepresionST, DepresionST_Pendiente, NumeroVasos, Prueba_Tálio]\n",
    "print(\"\\nPredicción para caso de ejemplo:\")\n",
    "ejemplo = [[52, 1, 0, 125, 212, 0, 1, 168, 0, 1, 2, 2, 3]]  # Similar a tu ejemplo [4,65,3,5,3]\n",
    "print(\"Clase predicha:\", knn_mm.predict(ejemplo))\n",
    "print(\"Probabilidades:\", knn_mm.predict_proba(ejemplo))"
   ]
  },
  {
   "cell_type": "code",
   "execution_count": null,
   "id": "298b518b-00e9-4745-9945-5aef5f5b52de",
   "metadata": {},
   "outputs": [],
   "source": [
    "\n",
    "\n",
    "\n",
    "\n"
   ]
  }
 ],
 "metadata": {
  "kernelspec": {
   "display_name": "Python 3 (ipykernel)",
   "language": "python",
   "name": "python3"
  },
  "language_info": {
   "codemirror_mode": {
    "name": "ipython",
    "version": 3
   },
   "file_extension": ".py",
   "mimetype": "text/x-python",
   "name": "python",
   "nbconvert_exporter": "python",
   "pygments_lexer": "ipython3",
   "version": "3.12.7"
  }
 },
 "nbformat": 4,
 "nbformat_minor": 5
}
