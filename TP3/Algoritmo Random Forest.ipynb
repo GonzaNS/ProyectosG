{
 "cells": [
  {
   "cell_type": "code",
   "execution_count": null,
   "id": "5f2d6d77-90f7-4af7-9956-b139e4dde72f",
   "metadata": {},
   "outputs": [],
   "source": [
    "# Instalar scikit-learn (si no lo tienes) que incluye Random Forest\n",
    "!pip install scikit-learn\n"
   ]
  },
  {
   "cell_type": "code",
   "execution_count": 1,
   "id": "f9e62b12-2228-440f-81ee-7b8945defe9e",
   "metadata": {},
   "outputs": [
    {
     "name": "stdout",
     "output_type": "stream",
     "text": [
      "\n",
      "Distribución de casos:\n",
      "Resultado\n",
      "1    523\n",
      "0    495\n",
      "Name: count, dtype: int64\n"
     ]
    },
    {
     "data": {
      "image/png": "[encoded data removed]",
      "text/plain": [
       "<Figure size 600x400 with 1 Axes>"
      ]
     },
     "metadata": {},
     "output_type": "display_data"
    }
   ],
   "source": [
    "import pandas as pd\n",
    "import numpy as np\n",
    "import matplotlib.pyplot as plt\n",
    "import seaborn as sns\n",
    "from sklearn.model_selection import train_test_split\n",
    "from sklearn.metrics import classification_report, confusion_matrix\n",
    "from sklearn.ensemble import RandomForestClassifier\n",
    "\n",
    "# 1. Cargar los datos (igual que en tu código original)\n",
    "dataframe = pd.read_csv('DS_Prediccion_de_Cardiopatia_SinDatosPerdidos.csv', sep=';')\n",
    "clasificadores = ['No Cardiopatía', 'Cardiopatía']\n",
    "\n",
    "\n",
    "# 3. Distribución de la variable objetivo\n",
    "print(\"\\nDistribución de casos:\")\n",
    "print(dataframe['Resultado'].value_counts())\n",
    "\n",
    "# 4. Gráfico de conteo\n",
    "plt.figure(figsize=(6,4))\n",
    "sns.countplot(x='Resultado', data=dataframe)\n",
    "plt.title('Distribución de casos de cardiopatía')\n",
    "plt.show()\n",
    "\n"
   ]
  },
  {
   "cell_type": "code",
   "execution_count": 2,
   "id": "9c2745a3-bf17-4121-8871-f14d67d6e07d",
   "metadata": {},
   "outputs": [
    {
     "name": "stdout",
     "output_type": "stream",
     "text": [
      "\n",
      "Matriz de confusión:\n",
      "                No Cardiopatía  Cardiopatía\n",
      "No Cardiopatía             109           28\n",
      "Cardiopatía                 18          151\n",
      "\n",
      "Reporte de clasificación:\n",
      "                precision    recall  f1-score   support\n",
      "\n",
      "No Cardiopatía       0.86      0.80      0.83       137\n",
      "   Cardiopatía       0.84      0.89      0.87       169\n",
      "\n",
      "      accuracy                           0.85       306\n",
      "     macro avg       0.85      0.84      0.85       306\n",
      "  weighted avg       0.85      0.85      0.85       306\n",
      "\n"
     ]
    }
   ],
   "source": [
    "# 5. Preparar datos\n",
    "y = dataframe['Resultado']\n",
    "X = dataframe.drop('Resultado', axis=1)\n",
    "\n",
    "# 6. Dividir datos (manteniendo tus mismos parámetros)\n",
    "X_train, X_test, y_train, y_test = train_test_split(X, y, test_size=0.3, random_state=30)\n",
    "\n",
    "# 7. Crear modelo Random Forest\n",
    "modelo_rf = RandomForestClassifier(\n",
    "    n_estimators=100,  # Número de árboles en el bosque\n",
    "    max_depth=3,       # Profundidad máxima de los árboles\n",
    "    random_state=30    # Semilla aleatoria para reproducibilidad\n",
    ")\n",
    "\n",
    "# 8. Entrenar el modelo\n",
    "modelo_rf.fit(X_train, y_train)\n",
    "\n",
    "# 9. Hacer predicciones\n",
    "predicciones = modelo_rf.predict(X_test)\n",
    "\n",
    "# 10. Matriz de confusión (igual formato que tu código)\n",
    "tn, fp, fn, tp = confusion_matrix(y_test, predicciones).ravel()\n",
    "labels = [\"No Cardiopatía\", \"Cardiopatía\"]\n",
    "matriz = confusion_matrix(y_test, predicciones, labels=[0,1])\n",
    "print(\"\\nMatriz de confusión:\")\n",
    "print(pd.DataFrame(matriz, index=labels, columns=labels))\n",
    "\n",
    "# 11. Reporte de clasificación\n",
    "print(\"\\nReporte de clasificación:\")\n",
    "print(classification_report(y_test, predicciones, target_names=clasificadores))\n",
    "\n"
   ]
  },
  {
   "cell_type": "code",
   "execution_count": 3,
   "id": "15b3b42e-f355-493d-a77c-db7f1594bc07",
   "metadata": {},
   "outputs": [
    {
     "name": "stdout",
     "output_type": "stream",
     "text": [
      "\n",
      "Predicción para ejemplo:\n",
      "[0]\n",
      "Probabilidades:\n",
      "[[0.74708042 0.25291958]]\n"
     ]
    },
    {
     "name": "stderr",
     "output_type": "stream",
     "text": [
      "C:\\ProgramData\\anaconda3\\Lib\\site-packages\\sklearn\\base.py:493: UserWarning: X does not have valid feature names, but RandomForestClassifier was fitted with feature names\n",
      "  warnings.warn(\n",
      "C:\\ProgramData\\anaconda3\\Lib\\site-packages\\sklearn\\base.py:493: UserWarning: X does not have valid feature names, but RandomForestClassifier was fitted with feature names\n",
      "  warnings.warn(\n"
     ]
    }
   ],
   "source": [
    "# 12. Ejemplo de predicción (mismo formato que tu código)\n",
    "# Datos de ejemplo: [Edad, Sexo, Tipo_Dolor_Pecho, Presion_Arterial, Colesterol, \n",
    "# Nivel_Azucar_Ayunas, Res_Electrocardiografico, Frecuencia_Cardiaca, \n",
    "# Angina_Inducida, DepresionST, DepresionST_Pendiente, NumeroVasos, Prueba_Tálio]\n",
    "ejemplo = [[52, 1, 0, 125, 212, 0, 1, 168, 0, 1, 2, 2, 3]]\n",
    "\n",
    "# Predicción\n",
    "print(\"\\nPredicción para ejemplo:\")\n",
    "print(modelo_rf.predict(ejemplo))\n",
    "print(\"Probabilidades:\")\n",
    "print(modelo_rf.predict_proba(ejemplo))\n",
    "\n"
   ]
  },
  {
   "cell_type": "code",
   "execution_count": null,
   "id": "e4059969-caf6-4e2a-a43b-05ad50075a4b",
   "metadata": {},
   "outputs": [],
   "source": []
  }
 ],
 "metadata": {
  "kernelspec": {
   "display_name": "Python 3 (ipykernel)",
   "language": "python",
   "name": "python3"
  },
  "language_info": {
   "codemirror_mode": {
    "name": "ipython",
    "version": 3
   },
   "file_extension": ".py",
   "mimetype": "text/x-python",
   "name": "python",
   "nbconvert_exporter": "python",
   "pygments_lexer": "ipython3",
   "version": "3.12.7"
  }
 },
 "nbformat": 4,
 "nbformat_minor": 5
}
